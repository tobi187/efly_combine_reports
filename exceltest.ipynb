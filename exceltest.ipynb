{
 "cells": [
  {
   "cell_type": "code",
   "execution_count": 1,
   "id": "0e15ca4a-ab20-4c72-8a1d-e0c561aea418",
   "metadata": {},
   "outputs": [],
   "source": [
    "import pandas as pd\n",
    "import openpyxl\n"
   ]
  },
  {
   "cell_type": "code",
   "execution_count": 15,
   "id": "dc785372-332b-40c4-8ac4-80f22eb152c4",
   "metadata": {},
   "outputs": [
    {
     "name": "stdout",
     "output_type": "stream",
     "text": [
      "    OrderDate   Region       Rep     Item  Units  Unit Cost    Total  \\\n",
      "0  2021-01-06     East     Jones   Pencil     95       1.99   189.05   \n",
      "1  2021-01-23  Central    Kivell   Binder     50      19.99   999.50   \n",
      "2  2021-02-09  Central   Jardine   Pencil     36       4.99   179.64   \n",
      "3  2021-02-26  Central      Gill      Pen     27      19.99   539.73   \n",
      "4  2021-03-15     West   Sorvino   Pencil     56       2.99   167.44   \n",
      "5  2021-04-01     East     Jones   Binder     60       4.99   299.40   \n",
      "6  2021-04-18  Central   Andrews   Pencil     75       1.99   149.25   \n",
      "7  2021-05-05  Central   Jardine   Pencil     90       4.99   449.10   \n",
      "8  2021-05-22     West  Thompson   Pencil     32       1.99    63.68   \n",
      "9  2021-06-08     East     Jones   Binder     60       8.99   539.40   \n",
      "10 2021-06-25  Central    Morgan   Pencil     90       4.99   449.10   \n",
      "11 2021-07-12     East    Howard   Binder     29       1.99    57.71   \n",
      "12 2021-07-29     East    Parent   Binder     81      19.99  1619.19   \n",
      "13 2021-08-15     East     Jones   Pencil     35       4.99   174.65   \n",
      "14 2021-09-01  Central     Smith     Desk      2     125.00   250.00   \n",
      "15 2021-09-18     East     Jones  Pen Set     16      15.99   255.84   \n",
      "16 2021-10-05  Central    Morgan   Binder     28       8.99   251.72   \n",
      "17 2021-10-22     East     Jones      Pen     64       8.99   575.36   \n",
      "18 2021-11-08     East    Parent      Pen     15      19.99   299.85   \n",
      "19 2021-11-25  Central    Kivell  Pen Set     96       4.99   479.04   \n",
      "20 2021-12-12  Central     Smith   Pencil     67       1.29    86.43   \n",
      "21 2021-12-29     East    Parent  Pen Set     74      15.99  1183.26   \n",
      "22 2022-01-15  Central      Gill   Binder     46       8.99   413.54   \n",
      "23 2022-02-01  Central     Smith   Binder     87      15.00  1305.00   \n",
      "24 2022-02-18     East     Jones   Binder      4       4.99    19.96   \n",
      "25 2022-03-07     West   Sorvino   Binder      7      19.99   139.93   \n",
      "26 2022-03-24  Central   Jardine  Pen Set     50       4.99   249.50   \n",
      "27 2022-04-10  Central   Andrews   Pencil     66       1.99   131.34   \n",
      "28 2022-04-27     East    Howard      Pen     96       4.99   479.04   \n",
      "29 2022-05-14  Central      Gill   Pencil     53       1.29    68.37   \n",
      "30 2022-05-31  Central      Gill   Binder     80       8.99   719.20   \n",
      "31 2022-06-17  Central    Kivell     Desk      5     125.00   625.00   \n",
      "32 2022-07-04     East     Jones  Pen Set     62       4.99   309.38   \n",
      "33 2022-07-21  Central    Morgan  Pen Set     55      12.49   686.95   \n",
      "34 2022-08-07  Central    Kivell  Pen Set     42      23.95  1005.90   \n",
      "35 2022-08-24     West   Sorvino     Desk      3     275.00   825.00   \n",
      "36 2022-09-10  Central      Gill   Pencil      7       1.29     9.03   \n",
      "37 2022-09-27     West   Sorvino      Pen     76       1.99   151.24   \n",
      "38 2022-10-14     West  Thompson   Binder     57      19.99  1139.43   \n",
      "39 2022-10-31  Central   Andrews   Pencil     14       1.29    18.06   \n",
      "40 2022-11-17  Central   Jardine   Binder     11       4.99    54.89   \n",
      "41 2022-12-04  Central   Jardine   Binder     94      19.99  1879.06   \n",
      "42 2022-12-21  Central   Andrews   Binder     28       4.99   139.72   \n",
      "\n",
      "    Whatever  lever  \n",
      "0        NaN    NaN  \n",
      "1        NaN    NaN  \n",
      "2        NaN    NaN  \n",
      "3        NaN    NaN  \n",
      "4        NaN    NaN  \n",
      "5        NaN    NaN  \n",
      "6        NaN    NaN  \n",
      "7        NaN    NaN  \n",
      "8        NaN    NaN  \n",
      "9        NaN    NaN  \n",
      "10       NaN    NaN  \n",
      "11       NaN    NaN  \n",
      "12       NaN    NaN  \n",
      "13       NaN    NaN  \n",
      "14       NaN    NaN  \n",
      "15       NaN    NaN  \n",
      "16       NaN    NaN  \n",
      "17       NaN    NaN  \n",
      "18       NaN    NaN  \n",
      "19       NaN    NaN  \n",
      "20       NaN    NaN  \n",
      "21       NaN    NaN  \n",
      "22       NaN   64.0  \n",
      "23       NaN   15.0  \n",
      "24       NaN   96.0  \n",
      "25       NaN   67.0  \n",
      "26       NaN   74.0  \n",
      "27       NaN   46.0  \n",
      "28       NaN   87.0  \n",
      "29       NaN    4.0  \n",
      "30       NaN    7.0  \n",
      "31       NaN   50.0  \n",
      "32       NaN   66.0  \n",
      "33       NaN   96.0  \n",
      "34       NaN   53.0  \n",
      "35       NaN   80.0  \n",
      "36       NaN    5.0  \n",
      "37       NaN   62.0  \n",
      "38       NaN   55.0  \n",
      "39       NaN   42.0  \n",
      "40       NaN    3.0  \n",
      "41       NaN    7.0  \n",
      "42       NaN    NaN  \n"
     ]
    }
   ],
   "source": [
    "data = pd.read_excel(\"SampleData.xlsx\", engine=\"openpyxl\", sheet_name=\"Sales\")\n",
    "print(data)"
   ]
  },
  {
   "cell_type": "code",
   "execution_count": 16,
   "id": "9aff0b91-bcb9-4c63-8979-40e850d2c014",
   "metadata": {},
   "outputs": [
    {
     "name": "stdout",
     "output_type": "stream",
     "text": [
      "OrderDate\n",
      "Region\n",
      "Rep\n",
      "Item\n",
      "Units\n",
      "Unit Cost\n",
      "Total\n",
      "Whatever\n",
      "lever\n"
     ]
    }
   ],
   "source": [
    "for i in data.keys():\n",
    "    print(i)"
   ]
  },
  {
   "cell_type": "code",
   "execution_count": 22,
   "id": "dab18123-e1a2-4eff-8f4d-5a51823038d2",
   "metadata": {},
   "outputs": [
    {
     "name": "stdout",
     "output_type": "stream",
     "text": [
      "43\n"
     ]
    }
   ],
   "source": [
    "print(len(data[\"Region\"]))"
   ]
  },
  {
   "cell_type": "code",
   "execution_count": null,
   "id": "6d3ae256-51f4-4608-86c3-51a907d9faf2",
   "metadata": {},
   "outputs": [],
   "source": []
  },
  {
   "cell_type": "code",
   "execution_count": null,
   "id": "64ecdf27-f795-43f6-8fa4-c0d88209761e",
   "metadata": {},
   "outputs": [],
   "source": []
  }
 ],
 "metadata": {
  "kernelspec": {
   "display_name": "Python 3 (ipykernel)",
   "language": "python",
   "name": "python3"
  },
  "language_info": {
   "codemirror_mode": {
    "name": "ipython",
    "version": 3
   },
   "file_extension": ".py",
   "mimetype": "text/x-python",
   "name": "python",
   "nbconvert_exporter": "python",
   "pygments_lexer": "ipython3",
   "version": "3.10.0"
  }
 },
 "nbformat": 4,
 "nbformat_minor": 5
}
